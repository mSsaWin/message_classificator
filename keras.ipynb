{
 "cells": [
  {
   "attachments": {},
   "cell_type": "markdown",
   "metadata": {},
   "source": [
    "Необходимые импорты"
   ]
  },
  {
   "cell_type": "code",
   "execution_count": 1,
   "metadata": {},
   "outputs": [],
   "source": [
    "import tensorflow as tf\n",
    "\n",
    "import pandas as pd\n",
    "import numpy as np\n",
    "\n",
    "import matplotlib.pyplot as plt\n",
    "\n",
    "import re\n",
    "import math\n",
    "\n",
    "import json\n",
    "\n",
    "from tqdm import tqdm\n",
    "\n",
    "from keras.preprocessing.text import Tokenizer\n",
    "from keras.utils import pad_sequences\n",
    "\n",
    "from sklearn.model_selection import train_test_split\n",
    "\n",
    "import random"
   ]
  },
  {
   "attachments": {},
   "cell_type": "markdown",
   "metadata": {},
   "source": [
    "Импорт класса для обработки текста"
   ]
  },
  {
   "cell_type": "code",
   "execution_count": 2,
   "metadata": {},
   "outputs": [
    {
     "name": "stderr",
     "output_type": "stream",
     "text": [
      "[nltk_data] Downloading package stopwords to\n",
      "[nltk_data]     C:\\Users\\SsaWin\\AppData\\Roaming\\nltk_data...\n",
      "[nltk_data]   Package stopwords is already up-to-date!\n"
     ]
    }
   ],
   "source": [
    "from text_preproccessor import TextPreproccessor"
   ]
  },
  {
   "attachments": {},
   "cell_type": "markdown",
   "metadata": {},
   "source": [
    "Гиперпараметры"
   ]
  },
  {
   "cell_type": "code",
   "execution_count": 3,
   "metadata": {},
   "outputs": [],
   "source": [
    "vocab_size = 4000\n",
    "embedding_dim = 128\n",
    "max_length = 200\n",
    "trunc_type = 'post'\n",
    "padding_type = 'post'\n",
    "oov_tok = '<word>'\n",
    "test_size = 0.2\n",
    "num_epochs = 20"
   ]
  },
  {
   "attachments": {},
   "cell_type": "markdown",
   "metadata": {},
   "source": [
    "Получение данных из файла"
   ]
  },
  {
   "cell_type": "code",
   "execution_count": 4,
   "metadata": {},
   "outputs": [],
   "source": [
    "def get_texts_from_excel_file(file_path: str) -> pd.DataFrame:\n",
    "    return pd.read_excel(file_path).dropna()"
   ]
  },
  {
   "cell_type": "code",
   "execution_count": 5,
   "metadata": {},
   "outputs": [],
   "source": [
    "TEXTS_FILEPATH = 'texts.xlsx'"
   ]
  },
  {
   "cell_type": "code",
   "execution_count": 6,
   "metadata": {},
   "outputs": [],
   "source": [
    "texts_df = get_texts_from_excel_file(TEXTS_FILEPATH)"
   ]
  },
  {
   "attachments": {},
   "cell_type": "markdown",
   "metadata": {},
   "source": [
    "Преобразование текста для обучения"
   ]
  },
  {
   "cell_type": "code",
   "execution_count": 63,
   "metadata": {},
   "outputs": [
    {
     "name": "stderr",
     "output_type": "stream",
     "text": [
      "100%|██████████| 9431/9431 [2:19:20<00:00,  1.13it/s]  \n"
     ]
    }
   ],
   "source": [
    "class_counts = texts_df['name'].value_counts()\n",
    "\n",
    "#Считаем встречаемость классов в датасете\n",
    "name2count = {name:count for name,count in zip(class_counts.index, class_counts.values)}\n",
    "\n",
    "# Добавляем в таблицу столбец вхождений класса\n",
    "texts_df['class_count'] = texts_df['name'].apply(lambda x: name2count[x])\n",
    "\n",
    "#Оставляем только те строки, классы которых встречаются более одного раза\n",
    "data = texts_df[texts_df['class_count'] > 1][['description', 'name']]\n",
    "\n",
    "# Составляем словарь для категорий\n",
    "name2class_id = {name: idx for idx, name in enumerate(data['name'].unique())}\n",
    "\n",
    "# Добавляем в таблицу столбец с индексами классов\n",
    "data['class_id'] = data['name'].apply(lambda x: name2class_id[x])\n",
    "\n",
    "# Удаляем столбец с названиями категорий\n",
    "data.drop(['name'], axis=1, inplace=True)\n",
    "\n",
    "text_preproccessor = TextPreproccessor()\n",
    "\n",
    "# Обработка текста для обучения\n",
    "tqdm.pandas()\n",
    "data['description'] = data['description'].progress_apply(lambda x: text_preproccessor.preproccess_text(x))\n"
   ]
  },
  {
   "cell_type": "code",
   "execution_count": 66,
   "metadata": {},
   "outputs": [],
   "source": [
    "data.to_excel('prepared_data.xlsx', index=False)"
   ]
  },
  {
   "cell_type": "code",
   "execution_count": 5,
   "metadata": {},
   "outputs": [],
   "source": [
    "\n",
    "with open('category_vocab.json', 'r') as json_file:\n",
    "    name2class_id = json.load(json_file)"
   ]
  },
  {
   "cell_type": "code",
   "execution_count": 6,
   "metadata": {},
   "outputs": [],
   "source": [
    "data = get_texts_from_excel_file('prepared_data.xlsx')\n"
   ]
  },
  {
   "attachments": {},
   "cell_type": "markdown",
   "metadata": {},
   "source": [
    "Формирование обучающей и проверяющей выборки"
   ]
  },
  {
   "cell_type": "code",
   "execution_count": 7,
   "metadata": {},
   "outputs": [],
   "source": [
    "X = data['description'].values\n",
    "y = data['class_id'].values\n",
    "#Делим датасет на тренировочную и тестовую выборки, учитывая распределение классов\n",
    "X_train, X_test, y_train, y_test = train_test_split(X, y, test_size=test_size, random_state=42, stratify=y)"
   ]
  },
  {
   "cell_type": "code",
   "execution_count": 8,
   "metadata": {},
   "outputs": [
    {
     "data": {
      "text/plain": [
       "{'<word>': 1, 'дом': 2, 'необходимо': 3, 'улица': 4, 'рядом': 5}"
      ]
     },
     "execution_count": 8,
     "metadata": {},
     "output_type": "execute_result"
    }
   ],
   "source": [
    "description_tokenizer = Tokenizer(num_words=vocab_size, oov_token=oov_tok)\n",
    "description_tokenizer.fit_on_texts(X_train)\n",
    "description_word_index = description_tokenizer.word_index\n",
    "dict(list(description_word_index.items())[0:5])"
   ]
  },
  {
   "cell_type": "code",
   "execution_count": 9,
   "metadata": {},
   "outputs": [
    {
     "name": "stdout",
     "output_type": "stream",
     "text": [
      "[[86, 27, 784, 41, 168, 834, 1, 1, 2435, 62, 1, 375, 1, 21, 1, 289, 1, 1, 125, 2063, 85, 135, 1144], [3, 7, 6, 207, 8, 5, 2, 4, 144]]\n"
     ]
    }
   ],
   "source": [
    "train_sequences = description_tokenizer.texts_to_sequences(X_train)\n",
    "print(train_sequences[:2])"
   ]
  },
  {
   "cell_type": "code",
   "execution_count": 10,
   "metadata": {},
   "outputs": [],
   "source": [
    "train_padded = pad_sequences(train_sequences, maxlen=max_length, padding=padding_type, truncating=trunc_type)"
   ]
  },
  {
   "cell_type": "code",
   "execution_count": 11,
   "metadata": {},
   "outputs": [],
   "source": [
    "validation_sequences = description_tokenizer.texts_to_sequences(X_test)\n",
    "validation_padded = pad_sequences(validation_sequences, maxlen=max_length, padding=padding_type, truncating=trunc_type)"
   ]
  },
  {
   "cell_type": "code",
   "execution_count": 12,
   "metadata": {},
   "outputs": [
    {
     "data": {
      "text/plain": [
       "127"
      ]
     },
     "execution_count": 12,
     "metadata": {},
     "output_type": "execute_result"
    }
   ],
   "source": [
    "size_of_label = len(name2class_id)\n",
    "size_of_label"
   ]
  },
  {
   "cell_type": "code",
   "execution_count": 14,
   "metadata": {},
   "outputs": [
    {
     "ename": "ValueError",
     "evalue": "The last dimension of the inputs to a Dense layer should be defined. Found None. Full input shape received: (None, None)",
     "output_type": "error",
     "traceback": [
      "\u001b[1;31m---------------------------------------------------------------------------\u001b[0m",
      "\u001b[1;31mValueError\u001b[0m                                Traceback (most recent call last)",
      "Cell \u001b[1;32mIn[14], line 1\u001b[0m\n\u001b[1;32m----> 1\u001b[0m model \u001b[39m=\u001b[39m tf\u001b[39m.\u001b[39;49mkeras\u001b[39m.\u001b[39;49mSequential([\n\u001b[0;32m      2\u001b[0m     tf\u001b[39m.\u001b[39;49mkeras\u001b[39m.\u001b[39;49mlayers\u001b[39m.\u001b[39;49mEmbedding(vocab_size, embedding_dim),\n\u001b[0;32m      3\u001b[0m     tf\u001b[39m.\u001b[39;49mkeras\u001b[39m.\u001b[39;49mlayers\u001b[39m.\u001b[39;49mDropout(\u001b[39m0.25\u001b[39;49m),\n\u001b[0;32m      4\u001b[0m     tf\u001b[39m.\u001b[39;49mkeras\u001b[39m.\u001b[39;49mlayers\u001b[39m.\u001b[39;49mFlatten(),\n\u001b[0;32m      5\u001b[0m     tf\u001b[39m.\u001b[39;49mkeras\u001b[39m.\u001b[39;49mlayers\u001b[39m.\u001b[39;49mDense(embedding_dim, activation\u001b[39m=\u001b[39;49m\u001b[39m'\u001b[39;49m\u001b[39mrelu\u001b[39;49m\u001b[39m'\u001b[39;49m),\n\u001b[0;32m      6\u001b[0m     tf\u001b[39m.\u001b[39;49mkeras\u001b[39m.\u001b[39;49mlayers\u001b[39m.\u001b[39;49mDense(size_of_label, activation\u001b[39m=\u001b[39;49m\u001b[39m'\u001b[39;49m\u001b[39msoftmax\u001b[39;49m\u001b[39m'\u001b[39;49m)\n\u001b[0;32m      7\u001b[0m ])\n\u001b[0;32m      8\u001b[0m model\u001b[39m.\u001b[39msummary()\n",
      "File \u001b[1;32mc:\\Users\\SsaWin\\AppData\\Local\\Programs\\Python\\Python310\\lib\\site-packages\\tensorflow\\python\\trackable\\base.py:205\u001b[0m, in \u001b[0;36mno_automatic_dependency_tracking.<locals>._method_wrapper\u001b[1;34m(self, *args, **kwargs)\u001b[0m\n\u001b[0;32m    203\u001b[0m \u001b[39mself\u001b[39m\u001b[39m.\u001b[39m_self_setattr_tracking \u001b[39m=\u001b[39m \u001b[39mFalse\u001b[39;00m  \u001b[39m# pylint: disable=protected-access\u001b[39;00m\n\u001b[0;32m    204\u001b[0m \u001b[39mtry\u001b[39;00m:\n\u001b[1;32m--> 205\u001b[0m   result \u001b[39m=\u001b[39m method(\u001b[39mself\u001b[39m, \u001b[39m*\u001b[39margs, \u001b[39m*\u001b[39m\u001b[39m*\u001b[39mkwargs)\n\u001b[0;32m    206\u001b[0m \u001b[39mfinally\u001b[39;00m:\n\u001b[0;32m    207\u001b[0m   \u001b[39mself\u001b[39m\u001b[39m.\u001b[39m_self_setattr_tracking \u001b[39m=\u001b[39m previous_value  \u001b[39m# pylint: disable=protected-access\u001b[39;00m\n",
      "File \u001b[1;32mc:\\Users\\SsaWin\\AppData\\Local\\Programs\\Python\\Python310\\lib\\site-packages\\keras\\utils\\traceback_utils.py:70\u001b[0m, in \u001b[0;36mfilter_traceback.<locals>.error_handler\u001b[1;34m(*args, **kwargs)\u001b[0m\n\u001b[0;32m     67\u001b[0m     filtered_tb \u001b[39m=\u001b[39m _process_traceback_frames(e\u001b[39m.\u001b[39m__traceback__)\n\u001b[0;32m     68\u001b[0m     \u001b[39m# To get the full stack trace, call:\u001b[39;00m\n\u001b[0;32m     69\u001b[0m     \u001b[39m# `tf.debugging.disable_traceback_filtering()`\u001b[39;00m\n\u001b[1;32m---> 70\u001b[0m     \u001b[39mraise\u001b[39;00m e\u001b[39m.\u001b[39mwith_traceback(filtered_tb) \u001b[39mfrom\u001b[39;00m \u001b[39mNone\u001b[39m\n\u001b[0;32m     71\u001b[0m \u001b[39mfinally\u001b[39;00m:\n\u001b[0;32m     72\u001b[0m     \u001b[39mdel\u001b[39;00m filtered_tb\n",
      "File \u001b[1;32mc:\\Users\\SsaWin\\AppData\\Local\\Programs\\Python\\Python310\\lib\\site-packages\\keras\\layers\\core\\dense.py:148\u001b[0m, in \u001b[0;36mDense.build\u001b[1;34m(self, input_shape)\u001b[0m\n\u001b[0;32m    146\u001b[0m last_dim \u001b[39m=\u001b[39m tf\u001b[39m.\u001b[39mcompat\u001b[39m.\u001b[39mdimension_value(input_shape[\u001b[39m-\u001b[39m\u001b[39m1\u001b[39m])\n\u001b[0;32m    147\u001b[0m \u001b[39mif\u001b[39;00m last_dim \u001b[39mis\u001b[39;00m \u001b[39mNone\u001b[39;00m:\n\u001b[1;32m--> 148\u001b[0m     \u001b[39mraise\u001b[39;00m \u001b[39mValueError\u001b[39;00m(\n\u001b[0;32m    149\u001b[0m         \u001b[39m\"\u001b[39m\u001b[39mThe last dimension of the inputs to a Dense layer \u001b[39m\u001b[39m\"\u001b[39m\n\u001b[0;32m    150\u001b[0m         \u001b[39m\"\u001b[39m\u001b[39mshould be defined. Found None. \u001b[39m\u001b[39m\"\u001b[39m\n\u001b[0;32m    151\u001b[0m         \u001b[39mf\u001b[39m\u001b[39m\"\u001b[39m\u001b[39mFull input shape received: \u001b[39m\u001b[39m{\u001b[39;00minput_shape\u001b[39m}\u001b[39;00m\u001b[39m\"\u001b[39m\n\u001b[0;32m    152\u001b[0m     )\n\u001b[0;32m    153\u001b[0m \u001b[39mself\u001b[39m\u001b[39m.\u001b[39minput_spec \u001b[39m=\u001b[39m InputSpec(min_ndim\u001b[39m=\u001b[39m\u001b[39m2\u001b[39m, axes\u001b[39m=\u001b[39m{\u001b[39m-\u001b[39m\u001b[39m1\u001b[39m: last_dim})\n\u001b[0;32m    154\u001b[0m \u001b[39mself\u001b[39m\u001b[39m.\u001b[39mkernel \u001b[39m=\u001b[39m \u001b[39mself\u001b[39m\u001b[39m.\u001b[39madd_weight(\n\u001b[0;32m    155\u001b[0m     \u001b[39m\"\u001b[39m\u001b[39mkernel\u001b[39m\u001b[39m\"\u001b[39m,\n\u001b[0;32m    156\u001b[0m     shape\u001b[39m=\u001b[39m[last_dim, \u001b[39mself\u001b[39m\u001b[39m.\u001b[39munits],\n\u001b[1;32m   (...)\u001b[0m\n\u001b[0;32m    161\u001b[0m     trainable\u001b[39m=\u001b[39m\u001b[39mTrue\u001b[39;00m,\n\u001b[0;32m    162\u001b[0m )\n",
      "\u001b[1;31mValueError\u001b[0m: The last dimension of the inputs to a Dense layer should be defined. Found None. Full input shape received: (None, None)"
     ]
    }
   ],
   "source": [
    "model = tf.keras.Sequential([\n",
    "    tf.keras.layers.Embedding(vocab_size, embedding_dim),\n",
    "    tf.keras.layers.Dropout(0.25),\n",
    "    tf.keras.layers.Flatten(),\n",
    "    tf.keras.layers.Dense(embedding_dim, activation='relu'),\n",
    "    tf.keras.layers.Dense(size_of_label, activation='softmax')\n",
    "])\n",
    "model.summary()\n"
   ]
  },
  {
   "cell_type": "code",
   "execution_count": 51,
   "metadata": {},
   "outputs": [],
   "source": [
    "model.compile(loss='sparse_categorical_crossentropy', optimizer='adam', metrics=['accuracy'])"
   ]
  },
  {
   "cell_type": "code",
   "execution_count": 52,
   "metadata": {},
   "outputs": [
    {
     "name": "stdout",
     "output_type": "stream",
     "text": [
      "Epoch 1/20\n",
      "25/25 - 8s - loss: 3.6528 - accuracy: 0.4437 - val_loss: 2.7100 - val_accuracy: 0.5050 - 8s/epoch - 334ms/step\n",
      "Epoch 2/20\n",
      "25/25 - 5s - loss: 2.4235 - accuracy: 0.4950 - val_loss: 2.3057 - val_accuracy: 0.5150 - 5s/epoch - 202ms/step\n",
      "Epoch 3/20\n",
      "25/25 - 5s - loss: 2.1868 - accuracy: 0.5150 - val_loss: 2.2584 - val_accuracy: 0.5150 - 5s/epoch - 199ms/step\n",
      "Epoch 4/20\n",
      "25/25 - 5s - loss: 2.0432 - accuracy: 0.5275 - val_loss: 2.2702 - val_accuracy: 0.5100 - 5s/epoch - 207ms/step\n",
      "Epoch 5/20\n",
      "25/25 - 5s - loss: 1.9231 - accuracy: 0.5375 - val_loss: 2.3184 - val_accuracy: 0.5100 - 5s/epoch - 206ms/step\n",
      "Epoch 6/20\n",
      "25/25 - 5s - loss: 1.8538 - accuracy: 0.5350 - val_loss: 2.3917 - val_accuracy: 0.5100 - 5s/epoch - 200ms/step\n",
      "Epoch 7/20\n",
      "25/25 - 5s - loss: 1.7702 - accuracy: 0.5537 - val_loss: 2.4195 - val_accuracy: 0.5150 - 5s/epoch - 202ms/step\n",
      "Epoch 8/20\n",
      "25/25 - 5s - loss: 1.6909 - accuracy: 0.5625 - val_loss: 2.5574 - val_accuracy: 0.5200 - 5s/epoch - 200ms/step\n",
      "Epoch 9/20\n",
      "25/25 - 5s - loss: 1.6133 - accuracy: 0.5750 - val_loss: 2.6177 - val_accuracy: 0.5200 - 5s/epoch - 201ms/step\n",
      "Epoch 10/20\n",
      "25/25 - 5s - loss: 1.5269 - accuracy: 0.5888 - val_loss: 2.7347 - val_accuracy: 0.5050 - 5s/epoch - 198ms/step\n",
      "Epoch 11/20\n",
      "25/25 - 5s - loss: 1.4997 - accuracy: 0.5813 - val_loss: 2.8124 - val_accuracy: 0.5050 - 5s/epoch - 202ms/step\n",
      "Epoch 12/20\n",
      "25/25 - 5s - loss: 1.4422 - accuracy: 0.6100 - val_loss: 2.9766 - val_accuracy: 0.5000 - 5s/epoch - 200ms/step\n",
      "Epoch 13/20\n",
      "25/25 - 5s - loss: 1.4171 - accuracy: 0.6162 - val_loss: 2.8937 - val_accuracy: 0.4900 - 5s/epoch - 199ms/step\n",
      "Epoch 14/20\n",
      "25/25 - 5s - loss: 1.2982 - accuracy: 0.6400 - val_loss: 2.9786 - val_accuracy: 0.4800 - 5s/epoch - 207ms/step\n",
      "Epoch 15/20\n",
      "25/25 - 5s - loss: 1.1641 - accuracy: 0.6662 - val_loss: 3.2931 - val_accuracy: 0.5000 - 5s/epoch - 203ms/step\n",
      "Epoch 16/20\n",
      "25/25 - 5s - loss: 1.0809 - accuracy: 0.7063 - val_loss: 3.5337 - val_accuracy: 0.4900 - 5s/epoch - 202ms/step\n",
      "Epoch 17/20\n",
      "25/25 - 5s - loss: 0.9979 - accuracy: 0.7300 - val_loss: 3.8010 - val_accuracy: 0.4950 - 5s/epoch - 208ms/step\n",
      "Epoch 18/20\n",
      "25/25 - 5s - loss: 0.9721 - accuracy: 0.7200 - val_loss: 3.8843 - val_accuracy: 0.5000 - 5s/epoch - 204ms/step\n",
      "Epoch 19/20\n",
      "25/25 - 5s - loss: 0.9251 - accuracy: 0.7487 - val_loss: 4.2783 - val_accuracy: 0.4950 - 5s/epoch - 203ms/step\n",
      "Epoch 20/20\n",
      "25/25 - 5s - loss: 0.8618 - accuracy: 0.7500 - val_loss: 4.2602 - val_accuracy: 0.4950 - 5s/epoch - 201ms/step\n"
     ]
    }
   ],
   "source": [
    "history = model.fit(train_padded, y_train, epochs=num_epochs, validation_data=(validation_padded, y_test), verbose=2)"
   ]
  },
  {
   "cell_type": "code",
   "execution_count": 53,
   "metadata": {},
   "outputs": [
    {
     "data": {
      "image/png": "[encoded data removed]",
      "text/plain": [
       "<Figure size 640x480 with 1 Axes>"
      ]
     },
     "metadata": {},
     "output_type": "display_data"
    },
    {
     "data": {
      "image/png": "[encoded data removed]",
      "text/plain": [
       "<Figure size 640x480 with 1 Axes>"
      ]
     },
     "metadata": {},
     "output_type": "display_data"
    }
   ],
   "source": [
    "def plot_graphs(history, string):\n",
    " plt.plot(history.history[string])\n",
    " plt.plot(history.history['val_'+string])\n",
    " plt.xlabel(\"Epochs\")\n",
    " plt.ylabel(string)\n",
    " plt.legend([string, 'val_'+string])\n",
    " plt.show()\n",
    "\n",
    "\n",
    "plot_graphs(history, \"accuracy\")\n",
    "plot_graphs(history, \"loss\")\n"
   ]
  },
  {
   "cell_type": "code",
   "execution_count": null,
   "metadata": {},
   "outputs": [],
   "source": []
  }
 ],
 "metadata": {
  "kernelspec": {
   "display_name": "Python 3",
   "language": "python",
   "name": "python3"
  },
  "language_info": {
   "codemirror_mode": {
    "name": "ipython",
    "version": 3
   },
   "file_extension": ".py",
   "mimetype": "text/x-python",
   "name": "python",
   "nbconvert_exporter": "python",
   "pygments_lexer": "ipython3",
   "version": "3.10.9"
  },
  "orig_nbformat": 4,
  "vscode": {
   "interpreter": {
    "hash": "b3b21dec50c861e79283621330bdc866b6b133786d52ef6030ffe90f49f0df2b"
   }
  }
 },
 "nbformat": 4,
 "nbformat_minor": 2
}
